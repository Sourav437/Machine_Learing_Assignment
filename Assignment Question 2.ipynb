{
 "cells": [
  {
   "cell_type": "markdown",
   "id": "910f4d19",
   "metadata": {},
   "source": [
    "# Importing Libraries"
   ]
  },
  {
   "cell_type": "code",
   "execution_count": 1,
   "id": "7ce2832b",
   "metadata": {},
   "outputs": [],
   "source": [
    "import pandas as pd\n",
    "import numpy as np\n",
    "from scipy.stats import multivariate_normal\n",
    "from random import choices\n",
    "from collections import Counter"
   ]
  },
  {
   "cell_type": "markdown",
   "id": "4ce42b09",
   "metadata": {},
   "source": [
    "# Necessary Functions "
   ]
  },
  {
   "cell_type": "code",
   "execution_count": 2,
   "id": "8197cc5c",
   "metadata": {},
   "outputs": [],
   "source": [
    "def Boro(num1, num2, num3):\n",
    "    if (num1 > num2) and (num1 > num3):\n",
    "        boro = 1\n",
    "    elif (num2 > num1) and (num2 > num3):\n",
    "        boro = 2\n",
    "    else:\n",
    "        boro = 3\n",
    "    return boro"
   ]
  },
  {
   "cell_type": "code",
   "execution_count": 3,
   "id": "51b67c28",
   "metadata": {},
   "outputs": [],
   "source": [
    "def Bayesclassification(number, act_miu1, act_miu2, act_sigma1, act_sigma2, act_prior1, act_prior2):\n",
    "    random_seed=0\n",
    "    dist1=multivariate_normal(cov = act_sigma1, mean = act_miu1, seed = random_seed)\n",
    "    dist2=multivariate_normal(cov = act_sigma2, mean = act_miu2, seed = random_seed)\n",
    "    # Generate a series of 1s & 2s with above probability.\n",
    "    x=choices(population=[1,2], weights=[act_prior1,act_prior2], k=number)\n",
    "    y=Counter(x)\n",
    "    mid1=y[1]//2\n",
    "    mid2=y[2]//2\n",
    "    # Sampling from the distribution of the FIRST class\n",
    "    data1 = dist2.rvs(size = y[1])\n",
    "    data1_train=data1[:mid1]\n",
    "    data1_test=data1[mid1:]\n",
    "    \n",
    "    # Sampling from the distribution of the SECOND class\n",
    "    data2 = dist1.rvs(size = y[2])\n",
    "    data2_train=data2[:mid2]\n",
    "    data2_test=data2[mid2:]\n",
    "    \n",
    "    # Get the total number of data for train\n",
    "    total_train_records=len(data1_train)+len(data2_train)\n",
    "    \n",
    "    # Estimate the values of mean and cov matrices\n",
    "    miu1_hat=np.mean(data1_train,0)\n",
    "    sigma1_hat=np.cov(data1_train,rowvar=False)\n",
    "    miu2_hat=np.mean(data2_train,0)\n",
    "    sigma2_hat=np.cov(data2_train,rowvar=False)\n",
    "    \n",
    "    # Estimate the prior probability\n",
    "    prior1_hat=len(data1_train)/total_train_records\n",
    "    prior2_hat=len(data2_train)/total_train_records\n",
    "    \n",
    "    #Actual class data\n",
    "    actual1=np.repeat(1,len(data1_test))\n",
    "    actual2=np.repeat(2,len(data2_test))\n",
    "    actual_classes=np.concatenate((actual1,actual2), axis=0)\n",
    "    \n",
    "    # Concatinate the data that is coming from both the classes for final classification\n",
    "    final_test_data=np.concatenate((data1_test,data2_test), axis=0)\n",
    "    \n",
    "    # ESTIMATED the mis-classification rate\n",
    "    # Calculate the components of the posteriori probability\n",
    "    denom1=multivariate_normal.pdf(final_test_data, mean=miu1_hat, cov=sigma1_hat)*prior1_hat\n",
    "    denom2=multivariate_normal.pdf(final_test_data, mean=miu2_hat, cov=sigma2_hat)*prior2_hat\n",
    "    denominatior=denom1+denom2\n",
    "    \n",
    "    # Conpute the posteriori probability for both the classes\n",
    "    class1_prob=denom1/denominatior\n",
    "    class2_prob=denom2/denominatior\n",
    "    \n",
    "    class_prob_diff=class1_prob-class2_prob\n",
    "    predicted_classes=[1 if x>0 else 2 for x in class_prob_diff]\n",
    "    classification_diff=actual_classes-predicted_classes    \n",
    "    estimated_mis_class_rate=len([1 for x in classification_diff if x!=0])/len(actual_classes)\n",
    "    #estimated_mis_class_rate\n",
    "    print(\"Misclassification Rate for ESTIMATED Parameters: \",estimated_mis_class_rate)\n",
    "    \n",
    "    # ACTUAL the mis-classification rate\n",
    "    # Calculate the components of the posteriori probability\n",
    "    denom1=multivariate_normal.pdf(final_test_data, mean=miu1, cov=sigma1)*act_prior1\n",
    "    denom2=multivariate_normal.pdf(final_test_data, mean=miu2, cov=sigma2)*act_prior2\n",
    "    denominatior=denom1+denom2\n",
    "    \n",
    "    # Conpute the posteriori probability for both the classes\n",
    "    class1_prob=denom1/denominatior\n",
    "    class2_prob=denom2/denominatior\n",
    "    \n",
    "    class_prob_diff=class1_prob-class2_prob\n",
    "    predicted_classes=[1 if x>0 else 2 for x in class_prob_diff]\n",
    "    classification_diff=actual_classes-predicted_classes    \n",
    "    actual_mis_class_rate=len([1 for x in classification_diff if x!=0])/len(actual_classes)\n",
    "    \n",
    "    print(\"Misclassification Rate for ACTUAL Parameters: \",actual_mis_class_rate)\n",
    "    \n",
    "    return(actual_mis_class_rate-estimated_mis_class_rate)"
   ]
  },
  {
   "cell_type": "code",
   "execution_count": 4,
   "id": "0a999abb",
   "metadata": {},
   "outputs": [],
   "source": [
    "def BayesclassificationTHREE(number, act_miu1, act_miu2, act_miu3, act_sigma1, act_sigma2, act_sigma3, act_prior1, act_prior2, act_prior3):\n",
    "    random_seed=0\n",
    "    dist1=multivariate_normal(cov = act_sigma1, mean = act_miu1, seed = random_seed)\n",
    "    dist2=multivariate_normal(cov = act_sigma2, mean = act_miu2, seed = random_seed)\n",
    "    dist3=multivariate_normal(cov = act_sigma3, mean = act_miu3, seed = random_seed)\n",
    "    # Generate a series of 1s & 2s with above probability. It will be used to invoke the sampling function\n",
    "    x=choices(population=[1,2,3], weights=[act_prior1,act_prior2,act_prior3], k=number)\n",
    "    y=Counter(x)\n",
    "    mid1=y[1]//2\n",
    "    mid2=y[2]//2\n",
    "    mid3=y[3]//2\n",
    "\n",
    "    # Sampling from the distribution of the FIRST class\n",
    "    data1 = dist1.rvs(size = y[1])\n",
    "    data1_train=data1[:mid1]\n",
    "    data1_test=data1[mid1:]\n",
    "    \n",
    "    # Sampling from the distribution of the SECOND class\n",
    "    data2 = dist2.rvs(size = y[2])\n",
    "    data2_train=data2[:mid2]\n",
    "    data2_test=data2[mid2:]\n",
    "    \n",
    "    # Sampling from the distribution of the THIRD class\n",
    "    data3 = dist3.rvs(size = y[3])\n",
    "    data3_train=data3[:mid3]\n",
    "    data3_test=data3[mid3:]\n",
    "\n",
    "    # Get the total number of data for train\n",
    "    total_train_records=len(data1_train)+len(data2_train)+len(data3_train)\n",
    "    \n",
    "    # Estimate the values of mean and cov matrices\n",
    "    miu1_hat=np.mean(data1_train,0)\n",
    "    sigma1_hat=np.cov(data1_train,rowvar=False)\n",
    "    miu2_hat=np.mean(data2_train,0)\n",
    "    sigma2_hat=np.cov(data2_train,rowvar=False)\n",
    "    miu3_hat=np.mean(data3_train,0)\n",
    "    sigma3_hat=np.cov(data3_train,rowvar=False)\n",
    "\n",
    "    \n",
    "    # Estimate the prior probability\n",
    "    prior1_hat=len(data1_train)/total_train_records\n",
    "    prior2_hat=len(data2_train)/total_train_records\n",
    "    prior3_hat=len(data3_train)/total_train_records\n",
    "    \n",
    "    #Actual class data\n",
    "    actual1=np.repeat(1,len(data1_test))\n",
    "    actual2=np.repeat(2,len(data2_test))\n",
    "    actual3=np.repeat(3,len(data3_test))\n",
    "    actual_classes=np.concatenate((actual1,actual2,actual3), axis=0)\n",
    "    \n",
    "    # Concatinate the data that is coming from both the classes for final classification\n",
    "    final_test_data=np.concatenate((data1_test,data2_test,data3_test), axis=0)\n",
    "    \n",
    "    # ESTIMATED the mis-classification rate\n",
    "    # Calculate the components of the posteriori probability\n",
    "    denom1=multivariate_normal.pdf(final_test_data, mean=miu1_hat, cov=sigma1_hat)*prior1_hat\n",
    "    denom2=multivariate_normal.pdf(final_test_data, mean=miu2_hat, cov=sigma2_hat)*prior2_hat\n",
    "    denom3=multivariate_normal.pdf(final_test_data, mean=miu3_hat, cov=sigma3_hat)*prior3_hat\n",
    "    denominatior=denom1+denom2+denom3\n",
    "    \n",
    "    # Conpute the posteriori probability for both the classes\n",
    "    class1_prob=denom1/denominatior\n",
    "    class2_prob=denom2/denominatior\n",
    "    class3_prob=denom3/denominatior\n",
    "        \n",
    "    #predicted_classes=largest(class1_prob,class2_prob,class3_prob)\n",
    "    #print(predicted_classes)\n",
    "    predicted_classes=np.repeat(0,len(class1_prob))\n",
    "    for i in range(len(class1_prob)):\n",
    "        predicted_classes[i]=Boro(class1_prob[i],class2_prob[i],class3_prob[i])\n",
    "    \n",
    "    classification_diff=actual_classes-predicted_classes    \n",
    "    estimated_mis_class_rate=len([1 for x in classification_diff if x!=0])/len(actual_classes)\n",
    "    #estimated_mis_class_rate\n",
    "    print(\"Misclassification Rate for ESTIMATED Parameters: \",estimated_mis_class_rate)\n",
    "    \n",
    "    # ACTUAL the mis-classification rate\n",
    "    # Calculate the components of the posteriori probability\n",
    "    denom1=multivariate_normal.pdf(final_test_data, mean=miu1, cov=sigma1)*act_prior1\n",
    "    denom2=multivariate_normal.pdf(final_test_data, mean=miu2, cov=sigma2)*act_prior2\n",
    "    denom3=multivariate_normal.pdf(final_test_data, mean=miu3, cov=sigma3)*act_prior3\n",
    "    denominatior=denom1+denom2+denom3\n",
    "    \n",
    "    # Conpute the posteriori probability for both the classes\n",
    "    class1_prob=denom1/denominatior\n",
    "    class2_prob=denom2/denominatior\n",
    "    class3_prob=denom3/denominatior\n",
    "    \n",
    "    predicted_classes=np.repeat(0,len(class1_prob))\n",
    "    for i in range(len(class1_prob)):\n",
    "        predicted_classes[i]=Boro(class1_prob[i],class2_prob[i],class3_prob[i])\n",
    "\n",
    "    \n",
    "    #class_prob_diff=class1_prob-class2_prob\n",
    "    #predicted_classes=[1 if x>0 else 2 for x in class_prob_diff]\n",
    "    classification_diff=actual_classes-predicted_classes    \n",
    "    actual_mis_class_rate=len([1 for x in classification_diff if x!=0])/len(actual_classes)\n",
    "    \n",
    "    print(\"Misclassification Rate for ACTUAL Parameters: \",actual_mis_class_rate)\n",
    "    \n",
    "    return(actual_mis_class_rate-estimated_mis_class_rate)\n"
   ]
  },
  {
   "cell_type": "code",
   "execution_count": 5,
   "id": "1950b26e",
   "metadata": {},
   "outputs": [],
   "source": [
    "miu1=np.array([0,0])\n",
    "sigma1=np.array([[1, 0], [0, 1]])\n",
    "\n",
    "miu2=np.array([0,1])\n",
    "sigma2=np.array([[1, -0.5], [-0.5, 2]])\n",
    "\n",
    "miu3=np.array([-1,0.5])\n",
    "sigma3=np.array([[0.75, 0.2], [0.2, 0.8]])\n",
    "\n",
    "miu4=np.array([-2,1.3])\n",
    "sigma4=np.array([[2, 0.8], [0.8, 1.6]])"
   ]
  },
  {
   "cell_type": "code",
   "execution_count": 6,
   "id": "d55fe6db",
   "metadata": {},
   "outputs": [
    {
     "name": "stdout",
     "output_type": "stream",
     "text": [
      "Misclassification Rate for ESTIMATED Parameters:  0.22377622377622378\n",
      "Misclassification Rate for ACTUAL Parameters:  0.4355644355644356\n",
      "Misclassification Rate for ESTIMATED Parameters:  0.2412\n",
      "Misclassification Rate for ACTUAL Parameters:  0.4764\n",
      "Misclassification Rate for ESTIMATED Parameters:  0.2332\n",
      "Misclassification Rate for ACTUAL Parameters:  0.4572\n",
      "Misclassification Rate for ESTIMATED Parameters:  0.24067593240675933\n",
      "Misclassification Rate for ACTUAL Parameters:  0.46765323467653236\n",
      "Misclass Rate when N=2000:  0.2117882117882118\n",
      "Misclass Rate when N=5000:  0.2352\n",
      "Misclass Rate when N=10000:  0.224\n",
      "Misclass Rate when N=20000:  0.22697730226977303\n"
     ]
    }
   ],
   "source": [
    "#Case 1\n",
    "misclass_rate_diff_n2000=Bayesclassification(2000,miu1,miu2,sigma1,sigma2,0.75,0.25)\n",
    "misclass_rate_diff_n5000=Bayesclassification(5000,miu1,miu2,sigma1,sigma2,0.75,0.25)\n",
    "misclass_rate_diff_n10000=Bayesclassification(10000,miu1,miu2,sigma1,sigma2,0.75,0.25)\n",
    "misclass_rate_diff_n20000=Bayesclassification(20000,miu1,miu2,sigma1,sigma2,0.75,0.25)\n",
    "\n",
    "print(\"Misclass Rate when N=2000: \",misclass_rate_diff_n2000)\n",
    "print(\"Misclass Rate when N=5000: \",misclass_rate_diff_n5000)\n",
    "print(\"Misclass Rate when N=10000: \",misclass_rate_diff_n10000)\n",
    "print(\"Misclass Rate when N=20000: \",misclass_rate_diff_n20000)"
   ]
  },
  {
   "cell_type": "code",
   "execution_count": 7,
   "id": "3f7387b9",
   "metadata": {},
   "outputs": [
    {
     "name": "stdout",
     "output_type": "stream",
     "text": [
      "Misclassification Rate for ESTIMATED Parameters:  0.3156843156843157\n",
      "Misclassification Rate for ACTUAL Parameters:  0.6863136863136863\n",
      "Misclassification Rate for ESTIMATED Parameters:  0.3314674130347861\n",
      "Misclassification Rate for ACTUAL Parameters:  0.6713314674130347\n",
      "Misclassification Rate for ESTIMATED Parameters:  0.32993401319736054\n",
      "Misclassification Rate for ACTUAL Parameters:  0.6706658668266346\n",
      "Misclassification Rate for ESTIMATED Parameters:  0.3210678932106789\n",
      "Misclassification Rate for ACTUAL Parameters:  0.677032296770323\n",
      "Misclass Rate when N=2000:  0.37062937062937057\n",
      "Misclass Rate when N=5000:  0.3398640543782486\n",
      "Misclass Rate when N=10000:  0.3407318536292741\n",
      "Misclass Rate when N=20000:  0.35596440355964404\n"
     ]
    }
   ],
   "source": [
    "#Case 2\n",
    "misclass_rate_diff_n2000=Bayesclassification(2000,miu1,miu2,sigma1,sigma2,0.5,0.5)\n",
    "misclass_rate_diff_n5000=Bayesclassification(5000,miu1,miu2,sigma1,sigma2,0.5,0.5)\n",
    "misclass_rate_diff_n10000=Bayesclassification(10000,miu1,miu2,sigma1,sigma2,0.5,0.5)\n",
    "misclass_rate_diff_n20000=Bayesclassification(20000,miu1,miu2,sigma1,sigma2,0.5,0.5)\n",
    "\n",
    "print(\"Misclass Rate when N=2000: \",misclass_rate_diff_n2000)\n",
    "print(\"Misclass Rate when N=5000: \",misclass_rate_diff_n5000)\n",
    "print(\"Misclass Rate when N=10000: \",misclass_rate_diff_n10000)\n",
    "print(\"Misclass Rate when N=20000: \",misclass_rate_diff_n20000)"
   ]
  },
  {
   "cell_type": "code",
   "execution_count": 8,
   "id": "ea6b388c",
   "metadata": {},
   "outputs": [
    {
     "name": "stdout",
     "output_type": "stream",
     "text": [
      "Misclassification Rate for ESTIMATED Parameters:  0.3386613386613387\n",
      "Misclassification Rate for ACTUAL Parameters:  0.6183816183816184\n",
      "Misclassification Rate for ESTIMATED Parameters:  0.32267093162734906\n",
      "Misclassification Rate for ACTUAL Parameters:  0.6077568972411036\n",
      "Misclassification Rate for ESTIMATED Parameters:  0.3268\n",
      "Misclassification Rate for ACTUAL Parameters:  0.6174\n",
      "Misclassification Rate for ESTIMATED Parameters:  0.32086791320867913\n",
      "Misclassification Rate for ACTUAL Parameters:  0.6243375662433757\n",
      "Misclass Rate when N=2000:  0.27972027972027974\n",
      "Misclass Rate when N=5000:  0.28508596561375454\n",
      "Misclass Rate when N=10000:  0.29059999999999997\n",
      "Misclass Rate when N=20000:  0.30346965303469653\n"
     ]
    }
   ],
   "source": [
    "#Case 3\n",
    "misclass_rate_diff_n2000=Bayesclassification(2000,miu1,miu2,sigma1,sigma2,0.6,0.4)\n",
    "misclass_rate_diff_n5000=Bayesclassification(5000,miu1,miu2,sigma1,sigma2,0.6,0.4)\n",
    "misclass_rate_diff_n10000=Bayesclassification(10000,miu1,miu2,sigma1,sigma2,0.6,0.4)\n",
    "misclass_rate_diff_n20000=Bayesclassification(20000,miu1,miu2,sigma1,sigma2,0.6,0.4)\n",
    "\n",
    "print(\"Misclass Rate when N=2000: \",misclass_rate_diff_n2000)\n",
    "print(\"Misclass Rate when N=5000: \",misclass_rate_diff_n5000)\n",
    "print(\"Misclass Rate when N=10000: \",misclass_rate_diff_n10000)\n",
    "print(\"Misclass Rate when N=20000: \",misclass_rate_diff_n20000)"
   ]
  },
  {
   "cell_type": "code",
   "execution_count": 9,
   "id": "2963ed31",
   "metadata": {},
   "outputs": [
    {
     "name": "stdout",
     "output_type": "stream",
     "text": [
      "Misclassification Rate for ESTIMATED Parameters:  0.192\n",
      "Misclassification Rate for ACTUAL Parameters:  0.363\n",
      "Misclassification Rate for ESTIMATED Parameters:  0.19592163134746102\n",
      "Misclassification Rate for ACTUAL Parameters:  0.3626549380247901\n",
      "Misclassification Rate for ESTIMATED Parameters:  0.19976004799040192\n",
      "Misclassification Rate for ACTUAL Parameters:  0.3669266146770646\n",
      "Misclassification Rate for ESTIMATED Parameters:  0.1972\n",
      "Misclassification Rate for ACTUAL Parameters:  0.3735\n",
      "Misclass Rate when N=2000:  0.17099999999999999\n",
      "Misclass Rate when N=5000:  0.16673330667732908\n",
      "Misclass Rate when N=10000:  0.1671665666866627\n",
      "Misclass Rate when N=20000:  0.1763\n"
     ]
    }
   ],
   "source": [
    "#Case 4\n",
    "misclass_rate_diff_n2000=Bayesclassification(2000,miu1,miu3,sigma1,sigma3,0.7,0.3)\n",
    "misclass_rate_diff_n5000=Bayesclassification(5000,miu1,miu3,sigma1,sigma3,0.7,0.3)\n",
    "misclass_rate_diff_n10000=Bayesclassification(10000,miu1,miu3,sigma1,sigma3,0.7,0.3)\n",
    "misclass_rate_diff_n20000=Bayesclassification(20000,miu1,miu3,sigma1,sigma3,0.7,0.3)\n",
    "\n",
    "print(\"Misclass Rate when N=2000: \",misclass_rate_diff_n2000)\n",
    "print(\"Misclass Rate when N=5000: \",misclass_rate_diff_n5000)\n",
    "print(\"Misclass Rate when N=10000: \",misclass_rate_diff_n10000)\n",
    "print(\"Misclass Rate when N=20000: \",misclass_rate_diff_n20000)"
   ]
  },
  {
   "cell_type": "code",
   "execution_count": 10,
   "id": "529750c1",
   "metadata": {},
   "outputs": [
    {
     "name": "stdout",
     "output_type": "stream",
     "text": [
      "Misclassification Rate for ESTIMATED Parameters:  0.191\n",
      "Misclassification Rate for ACTUAL Parameters:  0.254\n",
      "Misclassification Rate for ESTIMATED Parameters:  0.2088\n",
      "Misclassification Rate for ACTUAL Parameters:  0.256\n",
      "Misclassification Rate for ESTIMATED Parameters:  0.207\n",
      "Misclassification Rate for ACTUAL Parameters:  0.253\n",
      "Misclassification Rate for ESTIMATED Parameters:  0.2\n",
      "Misclassification Rate for ACTUAL Parameters:  0.255\n",
      "Misclass Rate when N=2000:  0.063\n",
      "Misclass Rate when N=5000:  0.04719999999999999\n",
      "Misclass Rate when N=10000:  0.04600000000000001\n",
      "Misclass Rate when N=20000:  0.05499999999999999\n"
     ]
    }
   ],
   "source": [
    "#Case 5\n",
    "misclass_rate_diff_n2000=Bayesclassification(2000,miu2,miu3,sigma2,sigma3,0.3,0.7)\n",
    "misclass_rate_diff_n5000=Bayesclassification(5000,miu2,miu3,sigma2,sigma3,0.3,0.7)\n",
    "misclass_rate_diff_n10000=Bayesclassification(10000,miu2,miu3,sigma2,sigma3,0.3,0.7)\n",
    "misclass_rate_diff_n20000=Bayesclassification(20000,miu2,miu3,sigma2,sigma3,0.3,0.7)\n",
    "\n",
    "print(\"Misclass Rate when N=2000: \",misclass_rate_diff_n2000)\n",
    "print(\"Misclass Rate when N=5000: \",misclass_rate_diff_n5000)\n",
    "print(\"Misclass Rate when N=10000: \",misclass_rate_diff_n10000)\n",
    "print(\"Misclass Rate when N=20000: \",misclass_rate_diff_n20000)"
   ]
  },
  {
   "cell_type": "code",
   "execution_count": 11,
   "id": "f5e57f0e",
   "metadata": {},
   "outputs": [
    {
     "name": "stdout",
     "output_type": "stream",
     "text": [
      "Misclassification Rate for ESTIMATED Parameters:  0.4005994005994006\n",
      "Misclassification Rate for ACTUAL Parameters:  0.3906093906093906\n",
      "Misclassification Rate for ESTIMATED Parameters:  0.43542582966813276\n",
      "Misclassification Rate for ACTUAL Parameters:  0.4382247101159536\n",
      "Misclassification Rate for ESTIMATED Parameters:  0.4261147770445911\n",
      "Misclassification Rate for ACTUAL Parameters:  0.4241151769646071\n",
      "Misclassification Rate for ESTIMATED Parameters:  0.43015698430156984\n",
      "Misclassification Rate for ACTUAL Parameters:  0.43145685431456854\n",
      "Misclass Rate when N=2000:  -0.009990009990009985\n",
      "Misclass Rate when N=5000:  0.0027988804478208396\n",
      "Misclass Rate when N=10000:  -0.0019996000799840097\n",
      "Misclass Rate when N=20000:  0.001299870012998694\n"
     ]
    }
   ],
   "source": [
    "#Case 6\n",
    "misclass_rate_diff_n2000=BayesclassificationTHREE(2000,miu1,miu2,miu3,sigma1,sigma2,sigma3,0.3,0.4,0.3)\n",
    "misclass_rate_diff_n5000=BayesclassificationTHREE(5000,miu1,miu2,miu3,sigma1,sigma2,sigma3,0.3,0.4,0.3)\n",
    "misclass_rate_diff_n10000=BayesclassificationTHREE(10000,miu1,miu2,miu3,sigma1,sigma2,sigma3,0.3,0.4,0.3)\n",
    "misclass_rate_diff_n20000=BayesclassificationTHREE(20000,miu1,miu2,miu3,sigma1,sigma2,sigma3,0.3,0.4,0.3)\n",
    "\n",
    "print(\"Misclass Rate when N=2000: \",misclass_rate_diff_n2000)\n",
    "print(\"Misclass Rate when N=5000: \",misclass_rate_diff_n5000)\n",
    "print(\"Misclass Rate when N=10000: \",misclass_rate_diff_n10000)\n",
    "print(\"Misclass Rate when N=20000: \",misclass_rate_diff_n20000)"
   ]
  },
  {
   "cell_type": "code",
   "execution_count": 12,
   "id": "9b155c04",
   "metadata": {},
   "outputs": [
    {
     "name": "stdout",
     "output_type": "stream",
     "text": [
      "Misclassification Rate for ESTIMATED Parameters:  0.232\n",
      "Misclassification Rate for ACTUAL Parameters:  0.465\n",
      "Misclassification Rate for ESTIMATED Parameters:  0.22790883646541382\n",
      "Misclassification Rate for ACTUAL Parameters:  0.4886045581767293\n",
      "Misclassification Rate for ESTIMATED Parameters:  0.2168\n",
      "Misclassification Rate for ACTUAL Parameters:  0.4652\n",
      "Misclassification Rate for ESTIMATED Parameters:  0.21997800219978003\n",
      "Misclassification Rate for ACTUAL Parameters:  0.47585241475852413\n",
      "Misclass Rate when N=2000:  0.233\n",
      "Misclass Rate when N=5000:  0.2606957217113155\n",
      "Misclass Rate when N=10000:  0.2484\n",
      "Misclass Rate when N=20000:  0.2558744125587441\n"
     ]
    }
   ],
   "source": [
    "#Case 7\n",
    "misclass_rate_diff_n2000=BayesclassificationTHREE(2000,miu2,miu3,miu4,sigma2,sigma3,sigma4,0.2,0.7,0.1)\n",
    "misclass_rate_diff_n5000=BayesclassificationTHREE(5000,miu2,miu3,miu4,sigma2,sigma3,sigma4,0.2,0.7,0.1)\n",
    "misclass_rate_diff_n10000=BayesclassificationTHREE(10000,miu2,miu3,miu4,sigma2,sigma3,sigma4,0.2,0.7,0.1)\n",
    "misclass_rate_diff_n20000=BayesclassificationTHREE(20000,miu2,miu3,miu4,sigma2,sigma3,sigma4,0.2,0.7,0.1)\n",
    "\n",
    "print(\"Misclass Rate when N=2000: \",misclass_rate_diff_n2000)\n",
    "print(\"Misclass Rate when N=5000: \",misclass_rate_diff_n5000)\n",
    "print(\"Misclass Rate when N=10000: \",misclass_rate_diff_n10000)\n",
    "print(\"Misclass Rate when N=20000: \",misclass_rate_diff_n20000)"
   ]
  },
  {
   "cell_type": "markdown",
   "id": "88ce42c2",
   "metadata": {},
   "source": [
    "# Taken help from sankar narayan misra for this code."
   ]
  }
 ],
 "metadata": {
  "kernelspec": {
   "display_name": "Python 3 (ipykernel)",
   "language": "python",
   "name": "python3"
  },
  "language_info": {
   "codemirror_mode": {
    "name": "ipython",
    "version": 3
   },
   "file_extension": ".py",
   "mimetype": "text/x-python",
   "name": "python",
   "nbconvert_exporter": "python",
   "pygments_lexer": "ipython3",
   "version": "3.10.6"
  }
 },
 "nbformat": 4,
 "nbformat_minor": 5
}
